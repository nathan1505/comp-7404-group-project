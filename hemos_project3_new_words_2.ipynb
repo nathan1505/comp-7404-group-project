{
  "nbformat": 4,
  "nbformat_minor": 0,
  "metadata": {
    "colab": {
      "provenance": [],
      "gpuType": "T4"
    },
    "kernelspec": {
      "name": "python3",
      "display_name": "Python 3"
    },
    "language_info": {
      "name": "python"
    },
    "accelerator": "GPU"
  },
  "cells": [
    {
      "cell_type": "code",
      "execution_count": null,
      "metadata": {
        "colab": {
          "base_uri": "https://localhost:8080/"
        },
        "id": "90_fM8DhbZLQ",
        "outputId": "68130270-e1d2-4ce8-e61e-39dd6c3d661a"
      },
      "outputs": [
        {
          "output_type": "stream",
          "name": "stdout",
          "text": [
            "Requirement already satisfied: jieba in /usr/local/lib/python3.10/dist-packages (0.42.1)\n"
          ]
        },
        {
          "output_type": "stream",
          "name": "stderr",
          "text": [
            "Building prefix dict from the default dictionary ...\n",
            "DEBUG:jieba:Building prefix dict from the default dictionary ...\n",
            "Dumping model to file cache /tmp/jieba.cache\n",
            "DEBUG:jieba:Dumping model to file cache /tmp/jieba.cache\n",
            "Loading model cost 0.993 seconds.\n",
            "DEBUG:jieba:Loading model cost 0.993 seconds.\n",
            "Prefix dict has been built successfully.\n",
            "DEBUG:jieba:Prefix dict has been built successfully.\n"
          ]
        }
      ],
      "source": [
        "!pip install jieba\n",
        "import pandas as pd\n",
        "import jieba\n",
        "\n",
        "# Load your CSV file\n",
        "weibo_df = pd.read_csv('weibo_senti_100k_utf8_filtered.csv')\n",
        "\n",
        "jieba.load_userdict(\"emoji_slang.txt\")\n",
        "\n",
        "# Define a function to segment text\n",
        "def segment_text(text):\n",
        "    return ' '.join(jieba.cut(text, cut_all=False))\n",
        "\n",
        "# Apply the text segmentation function to the 'review_cleaned' column\n",
        "weibo_df['review_cutted_project'] = weibo_df['review_cleaned'].apply(segment_text)\n",
        "\n",
        "# Save the DataFrame back to CSV\n",
        "weibo_df.to_csv('weibo_senti_100k_utf8_filtered_processed.csv', index=False)\n"
      ]
    },
    {
      "cell_type": "code",
      "source": [
        "weibo_df['review_cutted_project'][:10]"
      ],
      "metadata": {
        "colab": {
          "base_uri": "https://localhost:8080/"
        },
        "id": "X6YUCt-AQD2J",
        "outputId": "e7399492-c788-468a-c648-6aea2892505c"
      },
      "execution_count": null,
      "outputs": [
        {
          "output_type": "execute_result",
          "data": {
            "text/plain": [
              "0         更博 了 爆照 了 帅 的 呀 就是 越来越 爱 你 生快 傻 缺爱 你 爱 你 爱 你\n",
              "1      土耳其 的 事要 认真对待 哈哈 否则 直接 开除   很 是 细心 酒店 都 全部 OK 啦\n",
              "2                                姑娘 都 羡慕 你 呢 还有 招财猫 高兴\n",
              "3                                                 美爱 你\n",
              "4                               梦想 有 多 大 舞台 就 有 多 大 鼓掌\n",
              "5                                         花心 鼓掌   春暖花开\n",
              "6    某 问答 社区 上 收到 一 大学生 发给 我 的 私信 偶 喜欢 阿姨 偶是 阿姨 控 我...\n",
              "7    吃货 们 无不 啧啧称奇 好 不 喜欢 PS 写错 一个 字 哈哈                \n",
              "8    Sweet   MorningFrom   now   onlove   yourselfe...\n",
              "9    霍思燕 剖腹产 下小江江   老公 落泪 今晨 9 时 霍思燕 产下 一名 男婴 宝宝 重 ...\n",
              "Name: review_cutted_project, dtype: object"
            ]
          },
          "metadata": {},
          "execution_count": 2
        }
      ]
    },
    {
      "cell_type": "code",
      "source": [
        "!pip install tensorflow keras sklearn jieba\n",
        "\n",
        "import pandas as pd\n",
        "import jieba\n",
        "import numpy as np\n",
        "import tensorflow as tf\n",
        "from tensorflow.keras import backend as K\n",
        "from tensorflow.keras.preprocessing.text import Tokenizer\n",
        "from tensorflow.keras.preprocessing.sequence import pad_sequences\n",
        "from tensorflow.keras.models import Model\n",
        "from tensorflow.keras.layers import Input, Embedding, Bidirectional, LSTM, Dense, Dropout, Attention, Lambda\n",
        "from sklearn.model_selection import train_test_split\n",
        "from sklearn.metrics import precision_score, recall_score, f1_score, classification_report\n",
        "from sklearn.utils.class_weight import compute_class_weight"
      ],
      "metadata": {
        "colab": {
          "base_uri": "https://localhost:8080/"
        },
        "id": "Dw0R5SxLgpMv",
        "outputId": "93def69c-366d-41d5-a59c-34f151f13125",
        "collapsed": true
      },
      "execution_count": null,
      "outputs": [
        {
          "output_type": "stream",
          "name": "stdout",
          "text": [
            "Requirement already satisfied: tensorflow in /usr/local/lib/python3.10/dist-packages (2.14.0)\n",
            "Requirement already satisfied: keras in /usr/local/lib/python3.10/dist-packages (2.14.0)\n",
            "Collecting sklearn\n",
            "  Downloading sklearn-0.0.post11.tar.gz (3.6 kB)\n",
            "  \u001b[1;31merror\u001b[0m: \u001b[1msubprocess-exited-with-error\u001b[0m\n",
            "  \n",
            "  \u001b[31m×\u001b[0m \u001b[32mpython setup.py egg_info\u001b[0m did not run successfully.\n",
            "  \u001b[31m│\u001b[0m exit code: \u001b[1;36m1\u001b[0m\n",
            "  \u001b[31m╰─>\u001b[0m See above for output.\n",
            "  \n",
            "  \u001b[1;35mnote\u001b[0m: This error originates from a subprocess, and is likely not a problem with pip.\n",
            "  Preparing metadata (setup.py) ... \u001b[?25l\u001b[?25herror\n",
            "\u001b[1;31merror\u001b[0m: \u001b[1mmetadata-generation-failed\u001b[0m\n",
            "\n",
            "\u001b[31m×\u001b[0m Encountered error while generating package metadata.\n",
            "\u001b[31m╰─>\u001b[0m See above for output.\n",
            "\n",
            "\u001b[1;35mnote\u001b[0m: This is an issue with the package mentioned above, not pip.\n",
            "\u001b[1;36mhint\u001b[0m: See above for details.\n"
          ]
        }
      ]
    },
    {
      "cell_type": "code",
      "source": [
        "# Load the data\n",
        "weibo_df = pd.read_csv('weibo_senti_100k_utf8_filtered_processed.csv')\n",
        "\n",
        "# Segment text with jieba\n",
        "weibo_df['review_cutted_project'] = weibo_df['review_cleaned'].apply(lambda x: ' '.join(jieba.cut(x)))\n",
        "\n",
        "# Prepare X and y\n",
        "X = weibo_df['review_cutted_project'].values\n",
        "y = weibo_df['sentiment_classified'].apply(lambda x: 1 if x == 1 else 0).values  # Convert -1/1 to 0/1\n",
        "\n",
        "# Tokenize and pad sequences\n",
        "tokenizer = Tokenizer(num_words=20000)  # Adjust num_words to the size of your vocabulary\n",
        "tokenizer.fit_on_texts(X)\n",
        "X_seq = tokenizer.texts_to_sequences(X)\n",
        "X_pad = pad_sequences(X_seq, maxlen=100)  # Adjust maxlen to the length that makes sense for your data\n",
        "\n",
        "# Train-test split\n",
        "X_train, X_test, y_train, y_test = train_test_split(X_pad, y, test_size=0.2, random_state=42)"
      ],
      "metadata": {
        "id": "bqiSQs8DENaz"
      },
      "execution_count": null,
      "outputs": []
    },
    {
      "cell_type": "code",
      "source": [
        "from imblearn.over_sampling import SMOTE\n",
        "\n",
        "# Resampling with SMOTE\n",
        "smote = SMOTE()\n",
        "X_train_resampled, y_train_resampled = smote.fit_resample(X_train, y_train)\n",
        "\n",
        "# Calculate class weights\n",
        "class_weights = compute_class_weight('balanced', classes=np.unique(y_train_resampled), y=y_train_resampled)\n",
        "class_weights_dict = dict(enumerate(class_weights))"
      ],
      "metadata": {
        "id": "dI20HQanBUUs"
      },
      "execution_count": null,
      "outputs": []
    },
    {
      "cell_type": "code",
      "source": [
        "class_weights_dict"
      ],
      "metadata": {
        "colab": {
          "base_uri": "https://localhost:8080/"
        },
        "id": "jNtNYsviIvuq",
        "outputId": "7407d306-3cb0-4425-ff59-59bb77dce6d7"
      },
      "execution_count": null,
      "outputs": [
        {
          "output_type": "execute_result",
          "data": {
            "text/plain": [
              "{0: 1.0, 1: 1.0}"
            ]
          },
          "metadata": {},
          "execution_count": 6
        }
      ]
    },
    {
      "cell_type": "code",
      "source": [
        "from collections import Counter\n",
        "\n",
        "class_distribution_before = Counter(y_train)\n",
        "\n",
        "# Display the class distribution\n",
        "print(\"Class distribution after before SMOTE:\", class_distribution_before)\n",
        "\n",
        "# Optionally, you can calculate and display the ratio\n",
        "total_samples = sum(class_distribution_before.values())\n",
        "class_ratios = {cls: count / total_samples for cls, count in class_distribution_before.items()}\n",
        "\n",
        "print(\"Class ratios after before SMOTE:\", class_ratios)\n",
        "\n",
        "# Count the occurrences of each class in the resampled dataset\n",
        "class_distribution = Counter(y_train_resampled)\n",
        "\n",
        "# Display the class distribution\n",
        "print(\"Class distribution after applying SMOTE:\", class_distribution)\n",
        "\n",
        "# Optionally, you can calculate and display the ratio\n",
        "total_samples = sum(class_distribution.values())\n",
        "class_ratios = {cls: count / total_samples for cls, count in class_distribution.items()}\n",
        "\n",
        "print(\"Class ratios after applying SMOTE:\", class_ratios)\n"
      ],
      "metadata": {
        "colab": {
          "base_uri": "https://localhost:8080/"
        },
        "id": "dPxZlVZVFF4l",
        "outputId": "9f217a6f-0aad-426c-ba99-ec692d5f9de7"
      },
      "execution_count": null,
      "outputs": [
        {
          "output_type": "stream",
          "name": "stdout",
          "text": [
            "Class distribution after before SMOTE: Counter({1: 58271, 0: 21150})\n",
            "Class ratios after before SMOTE: {1: 0.7336976366452198, 0: 0.26630236335478025}\n",
            "Class distribution after applying SMOTE: Counter({1: 58271, 0: 58271})\n",
            "Class ratios after applying SMOTE: {1: 0.5, 0: 0.5}\n"
          ]
        }
      ]
    },
    {
      "cell_type": "code",
      "source": [
        "# Parameters for the model (adjust these to suit your data)\n",
        "max_features = 20000  # Adjust to the size of your vocabulary\n",
        "maxlen = 100          # Adjust to the length that makes sense for your data\n",
        "embedding_dim = 128\n",
        "lstm_units = 64\n",
        "\n",
        "# Model building\n",
        "input_layer = Input(shape=(maxlen,))\n",
        "embedding_layer = Embedding(max_features, embedding_dim, input_length=maxlen)(input_layer)\n",
        "bilstm_layer = Bidirectional(LSTM(lstm_units, return_sequences=True))(embedding_layer)\n",
        "attention_layer = Attention()([bilstm_layer, bilstm_layer])\n",
        "lambda_layer = Lambda(lambda x: K.mean(x, axis=1))(attention_layer)\n",
        "dense_layer = Dense(64, activation='relu')(lambda_layer)\n",
        "dropout_layer = Dropout(0.5)(dense_layer)\n",
        "output_layer = Dense(1, activation='sigmoid')(dropout_layer)\n",
        "\n",
        "model = Model(inputs=input_layer, outputs=output_layer)\n",
        "model.compile(optimizer='adam', loss='binary_crossentropy', metrics=['accuracy'])\n",
        "\n",
        "# Model summary\n",
        "model.summary()"
      ],
      "metadata": {
        "colab": {
          "base_uri": "https://localhost:8080/"
        },
        "id": "i2Vn1_F2BJTV",
        "outputId": "495e893b-12f4-4adf-cd02-184c7071ff1a"
      },
      "execution_count": null,
      "outputs": [
        {
          "output_type": "stream",
          "name": "stdout",
          "text": [
            "Model: \"model\"\n",
            "__________________________________________________________________________________________________\n",
            " Layer (type)                Output Shape                 Param #   Connected to                  \n",
            "==================================================================================================\n",
            " input_1 (InputLayer)        [(None, 100)]                0         []                            \n",
            "                                                                                                  \n",
            " embedding (Embedding)       (None, 100, 128)             2560000   ['input_1[0][0]']             \n",
            "                                                                                                  \n",
            " bidirectional (Bidirection  (None, 100, 128)             98816     ['embedding[0][0]']           \n",
            " al)                                                                                              \n",
            "                                                                                                  \n",
            " attention (Attention)       (None, 100, 128)             0         ['bidirectional[0][0]',       \n",
            "                                                                     'bidirectional[0][0]']       \n",
            "                                                                                                  \n",
            " lambda (Lambda)             (None, 128)                  0         ['attention[0][0]']           \n",
            "                                                                                                  \n",
            " dense (Dense)               (None, 64)                   8256      ['lambda[0][0]']              \n",
            "                                                                                                  \n",
            " dropout (Dropout)           (None, 64)                   0         ['dense[0][0]']               \n",
            "                                                                                                  \n",
            " dense_1 (Dense)             (None, 1)                    65        ['dropout[0][0]']             \n",
            "                                                                                                  \n",
            "==================================================================================================\n",
            "Total params: 2667137 (10.17 MB)\n",
            "Trainable params: 2667137 (10.17 MB)\n",
            "Non-trainable params: 0 (0.00 Byte)\n",
            "__________________________________________________________________________________________________\n"
          ]
        }
      ]
    },
    {
      "cell_type": "code",
      "source": [
        "# Fit the model with class weights\n",
        "model.fit(X_train_resampled, y_train_resampled, batch_size=64, epochs=1, validation_split=0.1)"
      ],
      "metadata": {
        "colab": {
          "base_uri": "https://localhost:8080/"
        },
        "id": "_Zuoa2EwBhCK",
        "outputId": "ba87ecd6-ac2a-440a-b37c-ca9f69d11f0a"
      },
      "execution_count": null,
      "outputs": [
        {
          "output_type": "stream",
          "name": "stdout",
          "text": [
            "3278/3278 [==============================] - 88s 23ms/step - loss: 0.4556 - accuracy: 0.7810 - val_loss: 0.5844 - val_accuracy: 0.7214\n"
          ]
        },
        {
          "output_type": "execute_result",
          "data": {
            "text/plain": [
              "<keras.src.callbacks.History at 0x7ece8f11f4f0>"
            ]
          },
          "metadata": {},
          "execution_count": 9
        }
      ]
    },
    {
      "cell_type": "code",
      "source": [
        "# Predict on the test set\n",
        "y_pred = model.predict(X_test)\n",
        "\n",
        "# Threshold predictions to binary\n",
        "y_pred_thresh = (y_pred > 0.5).astype(int)\n",
        "\n",
        "# Calculate precision, recall, and F1-score for each class\n",
        "report = classification_report(y_test, y_pred_thresh, target_names=['Negative', 'Positive'])\n",
        "print(report)"
      ],
      "metadata": {
        "colab": {
          "base_uri": "https://localhost:8080/"
        },
        "id": "eWMsf2t2BkeZ",
        "outputId": "77200dec-3bb2-4147-ff43-02eadad8689c"
      },
      "execution_count": null,
      "outputs": [
        {
          "output_type": "stream",
          "name": "stdout",
          "text": [
            "621/621 [==============================] - 4s 6ms/step\n",
            "              precision    recall  f1-score   support\n",
            "\n",
            "    Negative       0.72      0.83      0.77      5218\n",
            "    Positive       0.93      0.89      0.91     14638\n",
            "\n",
            "    accuracy                           0.87     19856\n",
            "   macro avg       0.83      0.86      0.84     19856\n",
            "weighted avg       0.88      0.87      0.87     19856\n",
            "\n"
          ]
        }
      ]
    },
    {
      "cell_type": "code",
      "source": [
        "from sklearn.metrics import confusion_matrix\n",
        "import seaborn as sns\n",
        "import matplotlib.pyplot as plt\n",
        "\n",
        "# Generate the confusion matrix\n",
        "conf_matrix = confusion_matrix(y_test, y_pred_thresh)\n",
        "\n",
        "# Plot the confusion matrix\n",
        "sns.heatmap(conf_matrix, annot=True, fmt='g', cmap='Blues')\n",
        "plt.xlabel('Predicted labels')\n",
        "plt.ylabel('True labels')\n",
        "plt.title('Confusion Matrix')\n",
        "plt.show()\n"
      ],
      "metadata": {
        "colab": {
          "base_uri": "https://localhost:8080/",
          "height": 472
        },
        "id": "edq7HTzqWJlB",
        "outputId": "11eac2fd-7ec1-41bf-e5e4-0cc0a1b66c38"
      },
      "execution_count": null,
      "outputs": [
        {
          "output_type": "display_data",
          "data": {
            "text/plain": [
              "<Figure size 640x480 with 2 Axes>"
            ],
            "image/png": "[encoded data removed]"
          },
          "metadata": {}
        }
      ]
    }
  ]
}