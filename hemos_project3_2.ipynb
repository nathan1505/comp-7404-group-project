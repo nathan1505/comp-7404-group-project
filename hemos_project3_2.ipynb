{
  "nbformat": 4,
  "nbformat_minor": 0,
  "metadata": {
    "colab": {
      "provenance": [],
      "gpuType": "T4"
    },
    "kernelspec": {
      "name": "python3",
      "display_name": "Python 3"
    },
    "language_info": {
      "name": "python"
    },
    "accelerator": "GPU"
  },
  "cells": [
    {
      "cell_type": "code",
      "execution_count": null,
      "metadata": {
        "colab": {
          "base_uri": "https://localhost:8080/"
        },
        "id": "90_fM8DhbZLQ",
        "outputId": "81a6e115-b5ed-457b-9aef-1724cd336964"
      },
      "outputs": [
        {
          "output_type": "stream",
          "name": "stdout",
          "text": [
            "Requirement already satisfied: jieba in /usr/local/lib/python3.10/dist-packages (0.42.1)\n"
          ]
        },
        {
          "output_type": "stream",
          "name": "stderr",
          "text": [
            "Building prefix dict from the default dictionary ...\n",
            "DEBUG:jieba:Building prefix dict from the default dictionary ...\n",
            "Dumping model to file cache /tmp/jieba.cache\n",
            "DEBUG:jieba:Dumping model to file cache /tmp/jieba.cache\n",
            "Loading model cost 1.300 seconds.\n",
            "DEBUG:jieba:Loading model cost 1.300 seconds.\n",
            "Prefix dict has been built successfully.\n",
            "DEBUG:jieba:Prefix dict has been built successfully.\n"
          ]
        }
      ],
      "source": [
        "!pip install jieba\n",
        "import pandas as pd\n",
        "import jieba\n",
        "\n",
        "# Load your CSV file\n",
        "weibo_df = pd.read_csv('weibo_senti_100k_utf8_filtered.csv')\n",
        "\n",
        "# Define a function to segment text\n",
        "def segment_text(text):\n",
        "    return ' '.join(jieba.cut(text, cut_all=False))\n",
        "\n",
        "# Apply the text segmentation function to the 'review_cleaned' column\n",
        "weibo_df['review_cutted_project'] = weibo_df['review_cleaned'].apply(segment_text)\n",
        "\n",
        "# Save the DataFrame back to CSV\n",
        "weibo_df.to_csv('weibo_senti_100k_utf8_filtered_processed.csv', index=False)\n"
      ]
    },
    {
      "cell_type": "code",
      "source": [
        "weibo_df['review_cutted_project'][:10]"
      ],
      "metadata": {
        "colab": {
          "base_uri": "https://localhost:8080/"
        },
        "id": "X6YUCt-AQD2J",
        "outputId": "faf4b0b4-a5c3-4b3f-e004-5f68a6958a5e"
      },
      "execution_count": null,
      "outputs": [
        {
          "output_type": "execute_result",
          "data": {
            "text/plain": [
              "0         更博 了 爆照 了 帅 的 呀 就是 越来越 爱 你 生快 傻 缺爱 你 爱 你 爱 你\n",
              "1      土耳其 的 事要 认真对待 哈哈 否则 直接 开除   很 是 细心 酒店 都 全部 OK 啦\n",
              "2                                姑娘 都 羡慕 你 呢 还有 招财猫 高兴\n",
              "3                                                 美爱 你\n",
              "4                               梦想 有 多 大 舞台 就 有 多 大 鼓掌\n",
              "5                                         花心 鼓掌   春暖花开\n",
              "6    某 问答 社区 上 收到 一 大学生 发给 我 的 私信 偶 喜欢 阿姨 偶是 阿姨 控 我...\n",
              "7    吃货 们 无不 啧啧称奇 好 不 喜欢 PS 写错 一个 字 哈哈                \n",
              "8    Sweet   MorningFrom   now   onlove   yourselfe...\n",
              "9    霍思燕 剖腹产 下小江江   老公 落泪 今晨 9 时 霍思燕 产下 一名 男婴 宝宝 重 ...\n",
              "Name: review_cutted_project, dtype: object"
            ]
          },
          "metadata": {},
          "execution_count": 4
        }
      ]
    },
    {
      "cell_type": "code",
      "source": [
        "!pip install tensorflow keras sklearn jieba\n",
        "\n",
        "import pandas as pd\n",
        "import jieba\n",
        "import numpy as np\n",
        "import tensorflow as tf\n",
        "from tensorflow.keras import backend as K\n",
        "from tensorflow.keras.preprocessing.text import Tokenizer\n",
        "from tensorflow.keras.preprocessing.sequence import pad_sequences\n",
        "from tensorflow.keras.models import Model\n",
        "from tensorflow.keras.layers import Input, Embedding, Bidirectional, LSTM, Dense, Dropout, Attention, Lambda\n",
        "from sklearn.model_selection import train_test_split\n",
        "from sklearn.metrics import precision_score, recall_score, f1_score, classification_report\n",
        "from sklearn.utils.class_weight import compute_class_weight"
      ],
      "metadata": {
        "colab": {
          "base_uri": "https://localhost:8080/"
        },
        "id": "Dw0R5SxLgpMv",
        "outputId": "314932d9-8df5-4cab-ba79-3b650ca9f1f1",
        "collapsed": true
      },
      "execution_count": null,
      "outputs": [
        {
          "output_type": "stream",
          "name": "stdout",
          "text": [
            "Requirement already satisfied: tensorflow in /usr/local/lib/python3.10/dist-packages (2.14.0)\n",
            "Requirement already satisfied: keras in /usr/local/lib/python3.10/dist-packages (2.14.0)\n",
            "Collecting sklearn\n",
            "  Downloading sklearn-0.0.post11.tar.gz (3.6 kB)\n",
            "  Preparing metadata (setup.py) ... \u001b[?25l\u001b[?25hdone\n",
            "Requirement already satisfied: jieba in /usr/local/lib/python3.10/dist-packages (0.42.1)\n",
            "Requirement already satisfied: absl-py>=1.0.0 in /usr/local/lib/python3.10/dist-packages (from tensorflow) (1.4.0)\n",
            "Requirement already satisfied: astunparse>=1.6.0 in /usr/local/lib/python3.10/dist-packages (from tensorflow) (1.6.3)\n",
            "Requirement already satisfied: flatbuffers>=23.5.26 in /usr/local/lib/python3.10/dist-packages (from tensorflow) (23.5.26)\n",
            "Requirement already satisfied: gast!=0.5.0,!=0.5.1,!=0.5.2,>=0.2.1 in /usr/local/lib/python3.10/dist-packages (from tensorflow) (0.5.4)\n",
            "Requirement already satisfied: google-pasta>=0.1.1 in /usr/local/lib/python3.10/dist-packages (from tensorflow) (0.2.0)\n",
            "Requirement already satisfied: h5py>=2.9.0 in /usr/local/lib/python3.10/dist-packages (from tensorflow) (3.9.0)\n",
            "Requirement already satisfied: libclang>=13.0.0 in /usr/local/lib/python3.10/dist-packages (from tensorflow) (16.0.6)\n",
            "Requirement already satisfied: ml-dtypes==0.2.0 in /usr/local/lib/python3.10/dist-packages (from tensorflow) (0.2.0)\n",
            "Requirement already satisfied: numpy>=1.23.5 in /usr/local/lib/python3.10/dist-packages (from tensorflow) (1.23.5)\n",
            "Requirement already satisfied: opt-einsum>=2.3.2 in /usr/local/lib/python3.10/dist-packages (from tensorflow) (3.3.0)\n",
            "Requirement already satisfied: packaging in /usr/local/lib/python3.10/dist-packages (from tensorflow) (23.2)\n",
            "Requirement already satisfied: protobuf!=4.21.0,!=4.21.1,!=4.21.2,!=4.21.3,!=4.21.4,!=4.21.5,<5.0.0dev,>=3.20.3 in /usr/local/lib/python3.10/dist-packages (from tensorflow) (3.20.3)\n",
            "Requirement already satisfied: setuptools in /usr/local/lib/python3.10/dist-packages (from tensorflow) (67.7.2)\n",
            "Requirement already satisfied: six>=1.12.0 in /usr/local/lib/python3.10/dist-packages (from tensorflow) (1.16.0)\n",
            "Requirement already satisfied: termcolor>=1.1.0 in /usr/local/lib/python3.10/dist-packages (from tensorflow) (2.3.0)\n",
            "Requirement already satisfied: typing-extensions>=3.6.6 in /usr/local/lib/python3.10/dist-packages (from tensorflow) (4.5.0)\n",
            "Requirement already satisfied: wrapt<1.15,>=1.11.0 in /usr/local/lib/python3.10/dist-packages (from tensorflow) (1.14.1)\n",
            "Requirement already satisfied: tensorflow-io-gcs-filesystem>=0.23.1 in /usr/local/lib/python3.10/dist-packages (from tensorflow) (0.34.0)\n",
            "Requirement already satisfied: grpcio<2.0,>=1.24.3 in /usr/local/lib/python3.10/dist-packages (from tensorflow) (1.59.2)\n",
            "Requirement already satisfied: tensorboard<2.15,>=2.14 in /usr/local/lib/python3.10/dist-packages (from tensorflow) (2.14.1)\n",
            "Requirement already satisfied: tensorflow-estimator<2.15,>=2.14.0 in /usr/local/lib/python3.10/dist-packages (from tensorflow) (2.14.0)\n",
            "Requirement already satisfied: wheel<1.0,>=0.23.0 in /usr/local/lib/python3.10/dist-packages (from astunparse>=1.6.0->tensorflow) (0.41.3)\n",
            "Requirement already satisfied: google-auth<3,>=1.6.3 in /usr/local/lib/python3.10/dist-packages (from tensorboard<2.15,>=2.14->tensorflow) (2.17.3)\n",
            "Requirement already satisfied: google-auth-oauthlib<1.1,>=0.5 in /usr/local/lib/python3.10/dist-packages (from tensorboard<2.15,>=2.14->tensorflow) (1.0.0)\n",
            "Requirement already satisfied: markdown>=2.6.8 in /usr/local/lib/python3.10/dist-packages (from tensorboard<2.15,>=2.14->tensorflow) (3.5.1)\n",
            "Requirement already satisfied: requests<3,>=2.21.0 in /usr/local/lib/python3.10/dist-packages (from tensorboard<2.15,>=2.14->tensorflow) (2.31.0)\n",
            "Requirement already satisfied: tensorboard-data-server<0.8.0,>=0.7.0 in /usr/local/lib/python3.10/dist-packages (from tensorboard<2.15,>=2.14->tensorflow) (0.7.2)\n",
            "Requirement already satisfied: werkzeug>=1.0.1 in /usr/local/lib/python3.10/dist-packages (from tensorboard<2.15,>=2.14->tensorflow) (3.0.1)\n",
            "Requirement already satisfied: cachetools<6.0,>=2.0.0 in /usr/local/lib/python3.10/dist-packages (from google-auth<3,>=1.6.3->tensorboard<2.15,>=2.14->tensorflow) (5.3.2)\n",
            "Requirement already satisfied: pyasn1-modules>=0.2.1 in /usr/local/lib/python3.10/dist-packages (from google-auth<3,>=1.6.3->tensorboard<2.15,>=2.14->tensorflow) (0.3.0)\n",
            "Requirement already satisfied: rsa<5,>=3.1.4 in /usr/local/lib/python3.10/dist-packages (from google-auth<3,>=1.6.3->tensorboard<2.15,>=2.14->tensorflow) (4.9)\n",
            "Requirement already satisfied: requests-oauthlib>=0.7.0 in /usr/local/lib/python3.10/dist-packages (from google-auth-oauthlib<1.1,>=0.5->tensorboard<2.15,>=2.14->tensorflow) (1.3.1)\n",
            "Requirement already satisfied: charset-normalizer<4,>=2 in /usr/local/lib/python3.10/dist-packages (from requests<3,>=2.21.0->tensorboard<2.15,>=2.14->tensorflow) (3.3.2)\n",
            "Requirement already satisfied: idna<4,>=2.5 in /usr/local/lib/python3.10/dist-packages (from requests<3,>=2.21.0->tensorboard<2.15,>=2.14->tensorflow) (3.4)\n",
            "Requirement already satisfied: urllib3<3,>=1.21.1 in /usr/local/lib/python3.10/dist-packages (from requests<3,>=2.21.0->tensorboard<2.15,>=2.14->tensorflow) (2.0.7)\n",
            "Requirement already satisfied: certifi>=2017.4.17 in /usr/local/lib/python3.10/dist-packages (from requests<3,>=2.21.0->tensorboard<2.15,>=2.14->tensorflow) (2023.7.22)\n",
            "Requirement already satisfied: MarkupSafe>=2.1.1 in /usr/local/lib/python3.10/dist-packages (from werkzeug>=1.0.1->tensorboard<2.15,>=2.14->tensorflow) (2.1.3)\n",
            "Requirement already satisfied: pyasn1<0.6.0,>=0.4.6 in /usr/local/lib/python3.10/dist-packages (from pyasn1-modules>=0.2.1->google-auth<3,>=1.6.3->tensorboard<2.15,>=2.14->tensorflow) (0.5.0)\n",
            "Requirement already satisfied: oauthlib>=3.0.0 in /usr/local/lib/python3.10/dist-packages (from requests-oauthlib>=0.7.0->google-auth-oauthlib<1.1,>=0.5->tensorboard<2.15,>=2.14->tensorflow) (3.2.2)\n",
            "Building wheels for collected packages: sklearn\n",
            "  Building wheel for sklearn (setup.py) ... \u001b[?25l\u001b[?25hdone\n",
            "  Created wheel for sklearn: filename=sklearn-0.0.post11-py3-none-any.whl size=2959 sha256=5f854a319a99b81c26218a93b01f0c9050ecf77dc8ba09e6f7990847c4994a95\n",
            "  Stored in directory: /root/.cache/pip/wheels/aa/9c/60/f67813603a52fc35057868f1aba0003cc75b72583dcaa2c341\n",
            "Successfully built sklearn\n",
            "Installing collected packages: sklearn\n",
            "Successfully installed sklearn-0.0.post11\n"
          ]
        }
      ]
    },
    {
      "cell_type": "code",
      "source": [
        "# Load the data\n",
        "weibo_df = pd.read_csv('weibo_senti_100k_utf8_filtered_processed.csv')\n",
        "\n",
        "# Segment text with jieba\n",
        "weibo_df['review_cutted_project'] = weibo_df['review_cleaned'].apply(lambda x: ' '.join(jieba.cut(x)))\n",
        "\n",
        "# Prepare X and y\n",
        "X = weibo_df['review_cutted_project'].values\n",
        "y = weibo_df['sentiment_classified'].apply(lambda x: 1 if x == 1 else 0).values  # Convert -1/1 to 0/1\n",
        "\n",
        "# Tokenize and pad sequences\n",
        "tokenizer = Tokenizer(num_words=20000)  # Adjust num_words to the size of your vocabulary\n",
        "tokenizer.fit_on_texts(X)\n",
        "X_seq = tokenizer.texts_to_sequences(X)\n",
        "X_pad = pad_sequences(X_seq, maxlen=100)  # Adjust maxlen to the length that makes sense for your data\n",
        "\n",
        "# Train-test split\n",
        "X_train, X_test, y_train, y_test = train_test_split(X_pad, y, test_size=0.2, random_state=42)"
      ],
      "metadata": {
        "id": "bqiSQs8DENaz"
      },
      "execution_count": null,
      "outputs": []
    },
    {
      "cell_type": "code",
      "source": [
        "from imblearn.over_sampling import SMOTE\n",
        "\n",
        "# Resampling with SMOTE\n",
        "smote = SMOTE()\n",
        "X_train_resampled, y_train_resampled = smote.fit_resample(X_train, y_train)\n",
        "\n",
        "# Calculate class weights\n",
        "class_weights = compute_class_weight('balanced', classes=np.unique(y_train_resampled), y=y_train_resampled)\n",
        "class_weights_dict = dict(enumerate(class_weights))"
      ],
      "metadata": {
        "id": "dI20HQanBUUs"
      },
      "execution_count": null,
      "outputs": []
    },
    {
      "cell_type": "code",
      "source": [
        "class_weights_dict"
      ],
      "metadata": {
        "colab": {
          "base_uri": "https://localhost:8080/"
        },
        "id": "jNtNYsviIvuq",
        "outputId": "e48b2c9f-8cc6-4029-e46a-01319d936635"
      },
      "execution_count": null,
      "outputs": [
        {
          "output_type": "execute_result",
          "data": {
            "text/plain": [
              "{0: 1.0, 1: 1.0}"
            ]
          },
          "metadata": {},
          "execution_count": 8
        }
      ]
    },
    {
      "cell_type": "code",
      "source": [
        "from collections import Counter\n",
        "\n",
        "class_distribution_before = Counter(y_train)\n",
        "\n",
        "# Display the class distribution\n",
        "print(\"Class distribution after before SMOTE:\", class_distribution_before)\n",
        "\n",
        "# Optionally, you can calculate and display the ratio\n",
        "total_samples = sum(class_distribution_before.values())\n",
        "class_ratios = {cls: count / total_samples for cls, count in class_distribution_before.items()}\n",
        "\n",
        "print(\"Class ratios after before SMOTE:\", class_ratios)\n",
        "\n",
        "# Count the occurrences of each class in the resampled dataset\n",
        "class_distribution = Counter(y_train_resampled)\n",
        "\n",
        "# Display the class distribution\n",
        "print(\"Class distribution after applying SMOTE:\", class_distribution)\n",
        "\n",
        "# Optionally, you can calculate and display the ratio\n",
        "total_samples = sum(class_distribution.values())\n",
        "class_ratios = {cls: count / total_samples for cls, count in class_distribution.items()}\n",
        "\n",
        "print(\"Class ratios after applying SMOTE:\", class_ratios)\n"
      ],
      "metadata": {
        "colab": {
          "base_uri": "https://localhost:8080/"
        },
        "id": "dPxZlVZVFF4l",
        "outputId": "556da266-0ea7-472b-d77c-354bcc632a6c"
      },
      "execution_count": null,
      "outputs": [
        {
          "output_type": "stream",
          "name": "stdout",
          "text": [
            "Class distribution after before SMOTE: Counter({1: 58271, 0: 21150})\n",
            "Class ratios after before SMOTE: {1: 0.7336976366452198, 0: 0.26630236335478025}\n",
            "Class distribution after applying SMOTE: Counter({1: 58271, 0: 58271})\n",
            "Class ratios after applying SMOTE: {1: 0.5, 0: 0.5}\n"
          ]
        }
      ]
    },
    {
      "cell_type": "code",
      "source": [
        "# Parameters for the model (adjust these to suit your data)\n",
        "max_features = 20000  # Adjust to the size of your vocabulary\n",
        "maxlen = 100          # Adjust to the length that makes sense for your data\n",
        "embedding_dim = 128\n",
        "lstm_units = 64\n",
        "\n",
        "# Model building\n",
        "input_layer = Input(shape=(maxlen,))\n",
        "embedding_layer = Embedding(max_features, embedding_dim, input_length=maxlen)(input_layer)\n",
        "bilstm_layer = Bidirectional(LSTM(lstm_units, return_sequences=True))(embedding_layer)\n",
        "attention_layer = Attention()([bilstm_layer, bilstm_layer])\n",
        "lambda_layer = Lambda(lambda x: K.mean(x, axis=1))(attention_layer)\n",
        "dense_layer = Dense(64, activation='relu')(lambda_layer)\n",
        "dropout_layer = Dropout(0.25)(dense_layer)\n",
        "output_layer = Dense(1, activation='sigmoid')(dropout_layer)\n",
        "\n",
        "model = Model(inputs=input_layer, outputs=output_layer)\n",
        "model.compile(optimizer='adam', loss='binary_crossentropy', metrics=['accuracy'])\n",
        "\n",
        "# Model summary\n",
        "model.summary()"
      ],
      "metadata": {
        "colab": {
          "base_uri": "https://localhost:8080/"
        },
        "id": "i2Vn1_F2BJTV",
        "outputId": "49d50f78-d0b5-4b8e-bbcd-6584f0f04923"
      },
      "execution_count": null,
      "outputs": [
        {
          "output_type": "stream",
          "name": "stdout",
          "text": [
            "Model: \"model\"\n",
            "__________________________________________________________________________________________________\n",
            " Layer (type)                Output Shape                 Param #   Connected to                  \n",
            "==================================================================================================\n",
            " input_1 (InputLayer)        [(None, 100)]                0         []                            \n",
            "                                                                                                  \n",
            " embedding (Embedding)       (None, 100, 128)             2560000   ['input_1[0][0]']             \n",
            "                                                                                                  \n",
            " bidirectional (Bidirection  (None, 100, 128)             98816     ['embedding[0][0]']           \n",
            " al)                                                                                              \n",
            "                                                                                                  \n",
            " attention (Attention)       (None, 100, 128)             0         ['bidirectional[0][0]',       \n",
            "                                                                     'bidirectional[0][0]']       \n",
            "                                                                                                  \n",
            " lambda (Lambda)             (None, 128)                  0         ['attention[0][0]']           \n",
            "                                                                                                  \n",
            " dense (Dense)               (None, 64)                   8256      ['lambda[0][0]']              \n",
            "                                                                                                  \n",
            " dropout (Dropout)           (None, 64)                   0         ['dense[0][0]']               \n",
            "                                                                                                  \n",
            " dense_1 (Dense)             (None, 1)                    65        ['dropout[0][0]']             \n",
            "                                                                                                  \n",
            "==================================================================================================\n",
            "Total params: 2667137 (10.17 MB)\n",
            "Trainable params: 2667137 (10.17 MB)\n",
            "Non-trainable params: 0 (0.00 Byte)\n",
            "__________________________________________________________________________________________________\n"
          ]
        }
      ]
    },
    {
      "cell_type": "code",
      "source": [
        "print(type(X_train_resampled))"
      ],
      "metadata": {
        "colab": {
          "base_uri": "https://localhost:8080/"
        },
        "id": "T2BfV-siIZ-z",
        "outputId": "95177bdf-ea0d-4ec1-df1e-d21cc5d6c20e"
      },
      "execution_count": null,
      "outputs": [
        {
          "output_type": "stream",
          "name": "stdout",
          "text": [
            "<class 'numpy.ndarray'>\n"
          ]
        }
      ]
    },
    {
      "cell_type": "code",
      "source": [
        "# Fit the model with class weights\n",
        "model.fit(X_train_resampled, y_train_resampled, batch_size=64, epochs=5, validation_split=0.1)"
      ],
      "metadata": {
        "colab": {
          "base_uri": "https://localhost:8080/"
        },
        "id": "_Zuoa2EwBhCK",
        "outputId": "cfc2b495-972f-4a39-b7cc-c901628b0b73"
      },
      "execution_count": null,
      "outputs": [
        {
          "output_type": "stream",
          "name": "stdout",
          "text": [
            "Epoch 1/5\n",
            "1639/1639 [==============================] - 74s 36ms/step - loss: 0.5283 - accuracy: 0.7539 - val_loss: 0.5702 - val_accuracy: 0.6595\n",
            "Epoch 2/5\n",
            "1639/1639 [==============================] - 32s 20ms/step - loss: 0.3686 - accuracy: 0.8380 - val_loss: 0.4808 - val_accuracy: 0.7710\n",
            "Epoch 3/5\n",
            "1639/1639 [==============================] - 30s 18ms/step - loss: 0.2853 - accuracy: 0.8812 - val_loss: 0.5162 - val_accuracy: 0.7882\n",
            "Epoch 4/5\n",
            "1639/1639 [==============================] - 23s 14ms/step - loss: 0.2172 - accuracy: 0.9132 - val_loss: 0.5610 - val_accuracy: 0.8039\n",
            "Epoch 5/5\n",
            "1639/1639 [==============================] - 23s 14ms/step - loss: 0.1592 - accuracy: 0.9391 - val_loss: 0.6032 - val_accuracy: 0.8165\n"
          ]
        },
        {
          "output_type": "execute_result",
          "data": {
            "text/plain": [
              "<keras.src.callbacks.History at 0x78f007f68df0>"
            ]
          },
          "metadata": {},
          "execution_count": 12
        }
      ]
    },
    {
      "cell_type": "code",
      "source": [
        "# Predict on the test set\n",
        "y_pred = model.predict(X_test)\n",
        "\n",
        "# Threshold predictions to binary\n",
        "y_pred_thresh = (y_pred > 0.5).astype(int)\n",
        "\n",
        "# Calculate precision, recall, and F1-score for each class\n",
        "report = classification_report(y_test, y_pred_thresh, target_names=['Negative', 'Positive'])\n",
        "print(report)"
      ],
      "metadata": {
        "colab": {
          "base_uri": "https://localhost:8080/"
        },
        "id": "eWMsf2t2BkeZ",
        "outputId": "a5f6a9fa-70eb-465b-f9a8-b98c3ae96f7f"
      },
      "execution_count": null,
      "outputs": [
        {
          "output_type": "stream",
          "name": "stdout",
          "text": [
            "621/621 [==============================] - 4s 5ms/step\n",
            "              precision    recall  f1-score   support\n",
            "\n",
            "    Negative       0.69      0.85      0.76      5218\n",
            "    Positive       0.94      0.86      0.90     14638\n",
            "\n",
            "    accuracy                           0.86     19856\n",
            "   macro avg       0.82      0.86      0.83     19856\n",
            "weighted avg       0.88      0.86      0.86     19856\n",
            "\n"
          ]
        }
      ]
    },
    {
      "cell_type": "code",
      "source": [
        "from sklearn.metrics import confusion_matrix\n",
        "import seaborn as sns\n",
        "import matplotlib.pyplot as plt\n",
        "\n",
        "# Generate the confusion matrix\n",
        "conf_matrix = confusion_matrix(y_test, y_pred_thresh)\n",
        "\n",
        "# Plot the confusion matrix\n",
        "sns.heatmap(conf_matrix, annot=True, fmt='g', cmap='Blues')\n",
        "plt.xlabel('Predicted labels')\n",
        "plt.ylabel('True labels')\n",
        "plt.title('Confusion Matrix')\n",
        "plt.show()\n"
      ],
      "metadata": {
        "colab": {
          "base_uri": "https://localhost:8080/",
          "height": 472
        },
        "id": "edq7HTzqWJlB",
        "outputId": "df8efed1-778e-47e7-93af-039ae1b64611"
      },
      "execution_count": null,
      "outputs": [
        {
          "output_type": "display_data",
          "data": {
            "text/plain": [
              "<Figure size 640x480 with 2 Axes>"
            ],
            "image/png": "[encoded data removed]"
          },
          "metadata": {}
        }
      ]
    }
  ]
}