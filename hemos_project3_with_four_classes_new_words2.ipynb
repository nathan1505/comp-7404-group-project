{
  "nbformat": 4,
  "nbformat_minor": 0,
  "metadata": {
    "colab": {
      "provenance": [],
      "gpuType": "T4"
    },
    "kernelspec": {
      "name": "python3",
      "display_name": "Python 3"
    },
    "language_info": {
      "name": "python"
    },
    "accelerator": "GPU"
  },
  "cells": [
    {
      "cell_type": "code",
      "execution_count": 1,
      "metadata": {
        "colab": {
          "base_uri": "https://localhost:8080/"
        },
        "id": "90_fM8DhbZLQ",
        "outputId": "126c1e73-a985-4174-ffa5-890c8cf04c1f"
      },
      "outputs": [
        {
          "output_type": "stream",
          "name": "stdout",
          "text": [
            "Requirement already satisfied: jieba in /usr/local/lib/python3.10/dist-packages (0.42.1)\n"
          ]
        },
        {
          "output_type": "stream",
          "name": "stderr",
          "text": [
            "Building prefix dict from the default dictionary ...\n",
            "DEBUG:jieba:Building prefix dict from the default dictionary ...\n",
            "Dumping model to file cache /tmp/jieba.cache\n",
            "DEBUG:jieba:Dumping model to file cache /tmp/jieba.cache\n",
            "Loading model cost 0.593 seconds.\n",
            "DEBUG:jieba:Loading model cost 0.593 seconds.\n",
            "Prefix dict has been built successfully.\n",
            "DEBUG:jieba:Prefix dict has been built successfully.\n"
          ]
        }
      ],
      "source": [
        "!pip install jieba\n",
        "import pandas as pd\n",
        "import jieba\n",
        "\n",
        "# Load your CSV file\n",
        "weibo_df = pd.read_csv('weibo_senti_100k_utf8_filtered_four_classes.csv')\n",
        "\n",
        "jieba.load_userdict(\"emoji_slang.txt\")\n",
        "\n",
        "# Define a function to segment text\n",
        "def segment_text(text):\n",
        "    return ' '.join(jieba.cut(text, cut_all=False))\n",
        "\n",
        "# Apply the text segmentation function to the 'review_cleaned' column\n",
        "weibo_df['review_cutted_project'] = weibo_df['review_cleaned'].apply(segment_text)\n",
        "\n",
        "# Save the DataFrame back to CSV\n",
        "weibo_df.to_csv('weibo_senti_100k_utf8_filtered_four_classes_processed.csv', index=False)\n"
      ]
    },
    {
      "cell_type": "code",
      "source": [
        "weibo_df['review_cutted_project'][:10]"
      ],
      "metadata": {
        "colab": {
          "base_uri": "https://localhost:8080/"
        },
        "id": "X6YUCt-AQD2J",
        "outputId": "3c8bb0fc-1f16-4435-aa6f-ea9aafe8e01d"
      },
      "execution_count": 2,
      "outputs": [
        {
          "output_type": "execute_result",
          "data": {
            "text/plain": [
              "0         更博 了 爆照 了 帅 的 呀 就是 越来越 爱 你 生快 傻 缺爱 你 爱 你 爱 你\n",
              "1      土耳其 的 事要 认真对待 哈哈 否则 直接 开除   很 是 细心 酒店 都 全部 OK 啦\n",
              "2                                姑娘 都 羡慕 你 呢 还有 招财猫 高兴\n",
              "3                                                 美爱 你\n",
              "4                               梦想 有 多 大 舞台 就 有 多 大 鼓掌\n",
              "5                                         花心 鼓掌   春暖花开\n",
              "6    某 问答 社区 上 收到 一 大学生 发给 我 的 私信 偶 喜欢 阿姨 偶是 阿姨 控 我...\n",
              "7    吃货 们 无不 啧啧称奇 好 不 喜欢 PS 写错 一个 字 哈哈                \n",
              "8    Sweet   MorningFrom   now   onlove   yourselfe...\n",
              "9    霍思燕 剖腹产 下小江江   老公 落泪 今晨 9 时 霍思燕 产下 一名 男婴 宝宝 重 ...\n",
              "Name: review_cutted_project, dtype: object"
            ]
          },
          "metadata": {},
          "execution_count": 2
        }
      ]
    },
    {
      "cell_type": "code",
      "source": [
        "!pip install tensorflow keras sklearn jieba\n",
        "import jieba\n",
        "import pandas as pd\n",
        "import numpy as np\n",
        "import tensorflow as tf\n",
        "from tensorflow.keras.layers import Input, LSTM, Embedding, Dense, Concatenate, TimeDistributed, Bidirectional\n",
        "from tensorflow.keras.preprocessing.text import Tokenizer\n",
        "from tensorflow.keras.preprocessing.sequence import pad_sequences\n",
        "from tensorflow.keras.models import Sequential, Model\n",
        "from tensorflow.keras.layers import Embedding, LSTM, Dense, Bidirectional\n",
        "from tensorflow.keras.callbacks import EarlyStopping\n",
        "from sklearn.preprocessing import LabelEncoder\n",
        "from tensorflow.keras.utils import to_categorical\n",
        "from sklearn.metrics import classification_report\n",
        "from sklearn.model_selection import train_test_split\n",
        "from imblearn.over_sampling import SMOTE"
      ],
      "metadata": {
        "colab": {
          "base_uri": "https://localhost:8080/"
        },
        "id": "Gi4EsopTDLWA",
        "outputId": "b79365b3-19e3-4bd9-c905-7b4007b7fa3e"
      },
      "execution_count": 3,
      "outputs": [
        {
          "output_type": "stream",
          "name": "stdout",
          "text": [
            "Requirement already satisfied: tensorflow in /usr/local/lib/python3.10/dist-packages (2.14.0)\n",
            "Requirement already satisfied: keras in /usr/local/lib/python3.10/dist-packages (2.14.0)\n",
            "Collecting sklearn\n",
            "  Downloading sklearn-0.0.post11.tar.gz (3.6 kB)\n",
            "  \u001b[1;31merror\u001b[0m: \u001b[1msubprocess-exited-with-error\u001b[0m\n",
            "  \n",
            "  \u001b[31m×\u001b[0m \u001b[32mpython setup.py egg_info\u001b[0m did not run successfully.\n",
            "  \u001b[31m│\u001b[0m exit code: \u001b[1;36m1\u001b[0m\n",
            "  \u001b[31m╰─>\u001b[0m See above for output.\n",
            "  \n",
            "  \u001b[1;35mnote\u001b[0m: This error originates from a subprocess, and is likely not a problem with pip.\n",
            "  Preparing metadata (setup.py) ... \u001b[?25l\u001b[?25herror\n",
            "\u001b[1;31merror\u001b[0m: \u001b[1mmetadata-generation-failed\u001b[0m\n",
            "\n",
            "\u001b[31m×\u001b[0m Encountered error while generating package metadata.\n",
            "\u001b[31m╰─>\u001b[0m See above for output.\n",
            "\n",
            "\u001b[1;35mnote\u001b[0m: This is an issue with the package mentioned above, not pip.\n",
            "\u001b[1;36mhint\u001b[0m: See above for details.\n"
          ]
        }
      ]
    },
    {
      "cell_type": "code",
      "source": [
        "# Load the data\n",
        "df = pd.read_csv('weibo_senti_100k_utf8_filtered_four_classes_processed.csv')\n",
        "\n",
        "# Segment text with jieba\n",
        "df['review_cutted_project'] = df['review_cleaned'].apply(lambda x: ' '.join(jieba.cut(x)))\n",
        "\n",
        "# Preprocessing (assuming the data is already loaded and balanced in df)\n",
        "X = df['review_cutted_project'].astype(str)\n",
        "y = df['sentiment_classified_four_classes']\n",
        "# 1=positive 2=negative 3=Optimistic humorous 4=Pessimistic humorous\n",
        "# Tokenization\n",
        "tokenizer = Tokenizer()\n",
        "tokenizer.fit_on_texts(X)\n",
        "X_seq = tokenizer.texts_to_sequences(X)"
      ],
      "metadata": {
        "id": "rq8_fjAIDNE4"
      },
      "execution_count": 4,
      "outputs": []
    },
    {
      "cell_type": "code",
      "source": [
        "# Calculate max sequence length\n",
        "max_seq_length = max([len(x) for x in X_seq])\n",
        "\n",
        "X_pad = pad_sequences(X_seq, maxlen=max([len(x) for x in X_seq]))\n",
        "\n",
        "# Encode class values\n",
        "encoder = LabelEncoder()\n",
        "encoder.fit(y)\n",
        "y_enc = encoder.transform(y)\n",
        "y_dummy = to_categorical(y_enc)\n",
        "\n",
        "# Splitting the data\n",
        "X_train, X_test, y_train, y_test = train_test_split(X_pad, y_dummy, test_size=0.2, random_state=42)\n",
        "\n",
        "# Resampling with SMOTE\n",
        "smote = SMOTE()\n",
        "X_train_resampled, y_train_resampled = smote.fit_resample(X_train, y_train)\n"
      ],
      "metadata": {
        "id": "5bmcsnYHDR8Y"
      },
      "execution_count": 5,
      "outputs": []
    },
    {
      "cell_type": "code",
      "source": [
        "# Define the attention layer\n",
        "class AttentionLayer(tf.keras.layers.Layer):\n",
        "    def __init__(self, **kwargs):\n",
        "        super(AttentionLayer, self).__init__(**kwargs)\n",
        "\n",
        "    def build(self, input_shape):\n",
        "        self.W = self.add_weight(name='attention_weight', shape=(input_shape[-1], 1), initializer='random_normal', trainable=True)\n",
        "        self.b = self.add_weight(name='attention_bias', shape=(input_shape[1], 1), initializer='zeros', trainable=True)\n",
        "        super(AttentionLayer, self).build(input_shape)\n",
        "\n",
        "    def call(self, x):\n",
        "        # Alignment scores. Pass them through tanh function\n",
        "        e = tf.tanh(tf.keras.backend.dot(x, self.W) + self.b)\n",
        "        # Remove dimension of size 1\n",
        "        e = tf.keras.backend.squeeze(e, axis=-1)\n",
        "        # Compute the weights\n",
        "        alpha = tf.keras.backend.softmax(e)\n",
        "        # Reshape to tensorFlow format\n",
        "        alpha = tf.keras.backend.expand_dims(alpha, axis=-1)\n",
        "        # Compute the context vector\n",
        "        context = x * alpha\n",
        "        context = tf.keras.backend.sum(context, axis=1)\n",
        "        return context, alpha\n",
        "\n",
        "# Model definition with Attention\n",
        "input_layer = Input(shape=(max_seq_length,))\n",
        "embedding_layer = Embedding(len(tokenizer.word_index) + 1, output_dim=100, input_length=max_seq_length)(input_layer)\n",
        "lstm_layer = Bidirectional(LSTM(64, return_sequences=True))(embedding_layer)\n",
        "\n",
        "# Apply the attention layer\n",
        "attention_output, attention_weights = AttentionLayer()(lstm_layer)\n",
        "output_layer = Dense(4, activation='softmax')(attention_output)\n",
        "\n",
        "model = Model(inputs=input_layer, outputs=output_layer)\n",
        "model.compile(optimizer='adam', loss='categorical_crossentropy', metrics=['accuracy'])\n",
        "\n",
        "model.summary()"
      ],
      "metadata": {
        "colab": {
          "base_uri": "https://localhost:8080/"
        },
        "id": "Szwf-MOdDVP_",
        "outputId": "7289a21d-8132-422e-c371-101467bb98a0"
      },
      "execution_count": 6,
      "outputs": [
        {
          "output_type": "stream",
          "name": "stdout",
          "text": [
            "Model: \"model\"\n",
            "_________________________________________________________________\n",
            " Layer (type)                Output Shape              Param #   \n",
            "=================================================================\n",
            " input_1 (InputLayer)        [(None, 130)]             0         \n",
            "                                                                 \n",
            " embedding (Embedding)       (None, 130, 100)          12470700  \n",
            "                                                                 \n",
            " bidirectional (Bidirection  (None, 130, 128)          84480     \n",
            " al)                                                             \n",
            "                                                                 \n",
            " attention_layer (Attention  ((None, 128),             258       \n",
            " Layer)                       (None, 130, 1))                    \n",
            "                                                                 \n",
            " dense (Dense)               (None, 4)                 516       \n",
            "                                                                 \n",
            "=================================================================\n",
            "Total params: 12555954 (47.90 MB)\n",
            "Trainable params: 12555954 (47.90 MB)\n",
            "Non-trainable params: 0 (0.00 Byte)\n",
            "_________________________________________________________________\n"
          ]
        }
      ]
    },
    {
      "cell_type": "code",
      "source": [
        "# Model training\n",
        "early_stopping = EarlyStopping(monitor='val_loss', patience=3, verbose=1)\n",
        "history = model.fit(X_train_resampled, y_train_resampled, epochs=5, batch_size=64, validation_split=0.1, callbacks=[early_stopping], verbose=1)\n",
        "\n",
        "# Model evaluation\n",
        "y_pred = model.predict(X_test).argmax(axis=1)\n",
        "y_true = np.argmax(y_test, axis=1)\n",
        "\n",
        "# Reverse transform from encoded labels to original labels\n",
        "y_pred = encoder.inverse_transform(y_pred)\n",
        "y_true = encoder.inverse_transform(y_true)\n",
        "\n",
        "# Generate classification report\n",
        "report = classification_report(y_true, y_pred, target_names=encoder.classes_.astype(str))\n",
        "print(report)\n"
      ],
      "metadata": {
        "colab": {
          "base_uri": "https://localhost:8080/"
        },
        "id": "Dw0R5SxLgpMv",
        "outputId": "131c1aec-942e-4e60-89ce-651ef611bcaa"
      },
      "execution_count": 7,
      "outputs": [
        {
          "output_type": "stream",
          "name": "stdout",
          "text": [
            "Epoch 1/5\n",
            "3049/3049 [==============================] - 1020s 333ms/step - loss: 1.0178 - accuracy: 0.5472 - val_loss: 1.4258 - val_accuracy: 0.0717\n",
            "Epoch 2/5\n",
            "3049/3049 [==============================] - 1068s 350ms/step - loss: 0.7747 - accuracy: 0.6546 - val_loss: 1.2840 - val_accuracy: 0.0818\n",
            "Epoch 3/5\n",
            "3049/3049 [==============================] - 1056s 346ms/step - loss: 0.6118 - accuracy: 0.7284 - val_loss: 1.4761 - val_accuracy: 0.1432\n",
            "Epoch 4/5\n",
            "3049/3049 [==============================] - 1022s 335ms/step - loss: 0.4543 - accuracy: 0.8021 - val_loss: 1.6496 - val_accuracy: 0.1690\n",
            "Epoch 5/5\n",
            "3049/3049 [==============================] - 1055s 346ms/step - loss: 0.3314 - accuracy: 0.8536 - val_loss: 2.0664 - val_accuracy: 0.2082\n",
            "Epoch 5: early stopping\n",
            "621/621 [==============================] - 19s 30ms/step\n",
            "              precision    recall  f1-score   support\n",
            "\n",
            "           1       0.91      0.83      0.87     13625\n",
            "           2       0.68      0.80      0.73      4777\n",
            "           3       0.34      0.50      0.40      1014\n",
            "           4       0.24      0.25      0.25       440\n",
            "\n",
            "    accuracy                           0.79     19856\n",
            "   macro avg       0.54      0.59      0.56     19856\n",
            "weighted avg       0.81      0.79      0.80     19856\n",
            "\n"
          ]
        }
      ]
    },
    {
      "cell_type": "code",
      "source": [
        "from sklearn.metrics import confusion_matrix\n",
        "import seaborn as sns\n",
        "import matplotlib.pyplot as plt\n",
        "\n",
        "# Generate the confusion matrix\n",
        "conf_matrix = confusion_matrix(y_pred, y_true)\n",
        "\n",
        "# Plot the confusion matrix\n",
        "sns.heatmap(conf_matrix, annot=True, fmt='g', cmap='Reds')\n",
        "plt.xlabel('Predicted labels')\n",
        "plt.ylabel('True labels')\n",
        "plt.title('Confusion Matrix')\n",
        "plt.show()\n",
        "\n"
      ],
      "metadata": {
        "id": "edq7HTzqWJlB",
        "colab": {
          "base_uri": "https://localhost:8080/",
          "height": 472
        },
        "outputId": "c9d3e6c8-b1df-4c34-f218-5bd3d00fdfd5"
      },
      "execution_count": 8,
      "outputs": [
        {
          "output_type": "display_data",
          "data": {
            "text/plain": [
              "<Figure size 640x480 with 2 Axes>"
            ],
            "image/png": "[encoded data removed]"
          },
          "metadata": {}
        }
      ]
    }
  ]
}